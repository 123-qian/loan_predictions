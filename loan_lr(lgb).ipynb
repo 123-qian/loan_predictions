{
 "cells": [
  {
   "cell_type": "code",
   "execution_count": 1,
   "metadata": {},
   "outputs": [],
   "source": [
    "import numpy as np"
   ]
  },
  {
   "cell_type": "code",
   "execution_count": 2,
   "metadata": {},
   "outputs": [],
   "source": [
    "import pandas as pd"
   ]
  },
  {
   "cell_type": "code",
   "execution_count": 3,
   "metadata": {},
   "outputs": [],
   "source": [
    "loan = pd.read_csv('loan.txt',encoding = 'gbk',sep=';')\n",
    "client = pd.read_csv('client.txt',encoding = 'gbk',sep=';')\n",
    "account = pd.read_csv('account.txt',encoding = 'gbk',sep=';')\n",
    "order = pd.read_csv('order.txt',encoding = 'gbk',sep=';')\n",
    "disp = pd.read_csv('disp.txt',encoding = 'gbk',sep=';')\n",
    "district = pd.read_csv('district.txt',encoding = 'gbk',sep=';')\n",
    "card = pd.read_csv('card.txt', encoding='gbk', sep=';')\n",
    "trans = pd.read_csv('trans.txt', encoding='gbk', sep=';',dtype={\"bank\":object})"
   ]
  },
  {
   "cell_type": "code",
   "execution_count": 4,
   "metadata": {},
   "outputs": [],
   "source": [
    "# 找出status列的唯一值并进行映射\n",
    "loan.status.unique()\n",
    "# 增加新的一列 ，通过status进行映射\n",
    "bad_good = {'B':1,'D':1,'A':0,'C':2}\n",
    "loan['bad_good'] = loan.status.map(bad_good)"
   ]
  },
  {
   "cell_type": "code",
   "execution_count": 5,
   "metadata": {},
   "outputs": [],
   "source": [
    "# 贷款人的年龄、性别\n",
    "data = pd.merge(loan,disp,on = 'account_id',how='left')\n",
    "data = pd.merge(data,client,on='client_id',how='left')\n",
    "data = data[data.type=='OWNER']"
   ]
  },
  {
   "cell_type": "code",
   "execution_count": 6,
   "metadata": {},
   "outputs": [],
   "source": [
    "# 贷款人居住地的经济状况\n",
    "data = pd.merge(data, district, left_on = 'district_id', right_on = 'A1', how = 'left')"
   ]
  },
  {
   "cell_type": "code",
   "execution_count": 7,
   "metadata": {},
   "outputs": [],
   "source": [
    "# 将date转化为日期类型\n",
    "data['date'] = data['date'].astype('str')\n",
    "data['date'] = '19' + data['date']\n",
    "data['date'] = pd.to_datetime(data['date'])"
   ]
  },
  {
   "cell_type": "code",
   "execution_count": 8,
   "metadata": {},
   "outputs": [],
   "source": [
    "# 计算每个账户余额的平均值、标准差\n",
    "data_4temp1 = pd.merge(loan[['account_id', 'date']],\n",
    "                       trans[['account_id','type','amount','balance','date']],\n",
    "                       on = 'account_id')"
   ]
  },
  {
   "cell_type": "code",
   "execution_count": 9,
   "metadata": {},
   "outputs": [],
   "source": [
    "data_4temp1.columns = ['account_id', 'date', 'type', 'amount', 'balance', 't_date']\n",
    "data_4temp1 = data_4temp1.sort_values(by=['account_id','t_date'])"
   ]
  },
  {
   "cell_type": "code",
   "execution_count": 10,
   "metadata": {},
   "outputs": [],
   "source": [
    "# 将date,t_date转化为日期类型\n",
    "def convert(L):\n",
    "    for l in L:\n",
    "        data_4temp1[l] =  data_4temp1[l].astype('str')\n",
    "        data_4temp1[l] = '19' + data_4temp1[l]\n",
    "        data_4temp1[l] = pd.to_datetime(data_4temp1[l])\n",
    "L = ['date','t_date']\n",
    "convert(L)"
   ]
  },
  {
   "cell_type": "code",
   "execution_count": 11,
   "metadata": {
    "scrolled": true
   },
   "outputs": [
    {
     "data": {
      "text/html": [
       "<div>\n",
       "<style scoped>\n",
       "    .dataframe tbody tr th:only-of-type {\n",
       "        vertical-align: middle;\n",
       "    }\n",
       "\n",
       "    .dataframe tbody tr th {\n",
       "        vertical-align: top;\n",
       "    }\n",
       "\n",
       "    .dataframe thead th {\n",
       "        text-align: right;\n",
       "    }\n",
       "</style>\n",
       "<table border=\"1\" class=\"dataframe\">\n",
       "  <thead>\n",
       "    <tr style=\"text-align: right;\">\n",
       "      <th></th>\n",
       "      <th>account_id</th>\n",
       "      <th>date</th>\n",
       "      <th>type</th>\n",
       "      <th>amount</th>\n",
       "      <th>balance</th>\n",
       "      <th>t_date</th>\n",
       "    </tr>\n",
       "  </thead>\n",
       "  <tbody>\n",
       "    <tr>\n",
       "      <th>10020</th>\n",
       "      <td>2</td>\n",
       "      <td>1994-01-05</td>\n",
       "      <td>PRIJEM</td>\n",
       "      <td>1100.0</td>\n",
       "      <td>1100.0</td>\n",
       "      <td>1993-02-26</td>\n",
       "    </tr>\n",
       "    <tr>\n",
       "      <th>10021</th>\n",
       "      <td>2</td>\n",
       "      <td>1994-01-05</td>\n",
       "      <td>PRIJEM</td>\n",
       "      <td>20236.0</td>\n",
       "      <td>21336.0</td>\n",
       "      <td>1993-03-12</td>\n",
       "    </tr>\n",
       "    <tr>\n",
       "      <th>10022</th>\n",
       "      <td>2</td>\n",
       "      <td>1994-01-05</td>\n",
       "      <td>PRIJEM</td>\n",
       "      <td>3700.0</td>\n",
       "      <td>25036.0</td>\n",
       "      <td>1993-03-28</td>\n",
       "    </tr>\n",
       "    <tr>\n",
       "      <th>10023</th>\n",
       "      <td>2</td>\n",
       "      <td>1994-01-05</td>\n",
       "      <td>PRIJEM</td>\n",
       "      <td>13.5</td>\n",
       "      <td>25049.5</td>\n",
       "      <td>1993-03-31</td>\n",
       "    </tr>\n",
       "    <tr>\n",
       "      <th>10024</th>\n",
       "      <td>2</td>\n",
       "      <td>1994-01-05</td>\n",
       "      <td>PRIJEM</td>\n",
       "      <td>20236.0</td>\n",
       "      <td>45285.5</td>\n",
       "      <td>1993-04-12</td>\n",
       "    </tr>\n",
       "  </tbody>\n",
       "</table>\n",
       "</div>"
      ],
      "text/plain": [
       "       account_id       date    type   amount  balance     t_date\n",
       "10020           2 1994-01-05  PRIJEM   1100.0   1100.0 1993-02-26\n",
       "10021           2 1994-01-05  PRIJEM  20236.0  21336.0 1993-03-12\n",
       "10022           2 1994-01-05  PRIJEM   3700.0  25036.0 1993-03-28\n",
       "10023           2 1994-01-05  PRIJEM     13.5  25049.5 1993-03-31\n",
       "10024           2 1994-01-05  PRIJEM  20236.0  45285.5 1993-04-12"
      ]
     },
     "execution_count": 11,
     "metadata": {},
     "output_type": "execute_result"
    }
   ],
   "source": [
    "data_4temp1.head()"
   ]
  },
  {
   "cell_type": "code",
   "execution_count": null,
   "metadata": {},
   "outputs": [],
   "source": [
    "# # 将balance列和amount列四舍五入\n",
    "# data_4temp1['balance'] = round(data_4temp1['balance'])\n",
    "# data_4temp1['amount'] = round(data_4temp1['amount'])\n",
    "# # 将balance列和amount列转换数据类型为int\n",
    "# data_4temp1[['balance','amount']] = data_4temp1[['balance','amount']].astype(int)"
   ]
  },
  {
   "cell_type": "code",
   "execution_count": 12,
   "metadata": {},
   "outputs": [],
   "source": [
    "# 提取交易数据\n",
    "import datetime\n",
    "data_4temp2 = data_4temp1[data_4temp1.date>data_4temp1.t_date]\n",
    "data_4temp2 = data_4temp2[data_4temp2.date<data_4temp2.t_date+datetime.timedelta(days=365)]"
   ]
  },
  {
   "cell_type": "code",
   "execution_count": null,
   "metadata": {},
   "outputs": [],
   "source": [
    "# 计算变异系数\n",
    "# data_4temp3 = data_4temp2.groupby('account_id')['balance'].agg({'avg_balance':'mean', 'stdev_balance':'std'})"
   ]
  },
  {
   "cell_type": "code",
   "execution_count": 13,
   "metadata": {},
   "outputs": [],
   "source": [
    "# 计算变异系数\n",
    "def f(data_4temp2):\n",
    "    avg_balance = data_4temp2['balance'].mean()\n",
    "    stdev_balance = data_4temp2['balance'].std() \n",
    "    return pd.Series([avg_balance,stdev_balance], index=['avg_balance','stdev_balance'])\n",
    "data_4temp3 = data_4temp2.groupby('account_id').apply(f)\n",
    "data_4temp3['cv_balance'] = data_4temp3[['avg_balance','stdev_balance']].apply(lambda x: x[1]/x[0],axis = 1)"
   ]
  },
  {
   "cell_type": "code",
   "execution_count": 14,
   "metadata": {
    "scrolled": true
   },
   "outputs": [
    {
     "data": {
      "text/html": [
       "<div>\n",
       "<style scoped>\n",
       "    .dataframe tbody tr th:only-of-type {\n",
       "        vertical-align: middle;\n",
       "    }\n",
       "\n",
       "    .dataframe tbody tr th {\n",
       "        vertical-align: top;\n",
       "    }\n",
       "\n",
       "    .dataframe thead th {\n",
       "        text-align: right;\n",
       "    }\n",
       "</style>\n",
       "<table border=\"1\" class=\"dataframe\">\n",
       "  <thead>\n",
       "    <tr style=\"text-align: right;\">\n",
       "      <th></th>\n",
       "      <th>avg_balance</th>\n",
       "      <th>stdev_balance</th>\n",
       "      <th>cv_balance</th>\n",
       "    </tr>\n",
       "    <tr>\n",
       "      <th>account_id</th>\n",
       "      <th></th>\n",
       "      <th></th>\n",
       "      <th></th>\n",
       "    </tr>\n",
       "  </thead>\n",
       "  <tbody>\n",
       "    <tr>\n",
       "      <th>2</th>\n",
       "      <td>32590.624074</td>\n",
       "      <td>12061.705682</td>\n",
       "      <td>0.370097</td>\n",
       "    </tr>\n",
       "    <tr>\n",
       "      <th>19</th>\n",
       "      <td>25871.173684</td>\n",
       "      <td>15057.448942</td>\n",
       "      <td>0.582016</td>\n",
       "    </tr>\n",
       "    <tr>\n",
       "      <th>25</th>\n",
       "      <td>60792.815504</td>\n",
       "      <td>21315.682316</td>\n",
       "      <td>0.350628</td>\n",
       "    </tr>\n",
       "    <tr>\n",
       "      <th>37</th>\n",
       "      <td>38528.082243</td>\n",
       "      <td>22177.512550</td>\n",
       "      <td>0.575619</td>\n",
       "    </tr>\n",
       "    <tr>\n",
       "      <th>38</th>\n",
       "      <td>31383.449091</td>\n",
       "      <td>10950.811533</td>\n",
       "      <td>0.348936</td>\n",
       "    </tr>\n",
       "  </tbody>\n",
       "</table>\n",
       "</div>"
      ],
      "text/plain": [
       "             avg_balance  stdev_balance  cv_balance\n",
       "account_id                                         \n",
       "2           32590.624074   12061.705682    0.370097\n",
       "19          25871.173684   15057.448942    0.582016\n",
       "25          60792.815504   21315.682316    0.350628\n",
       "37          38528.082243   22177.512550    0.575619\n",
       "38          31383.449091   10950.811533    0.348936"
      ]
     },
     "execution_count": 14,
     "metadata": {},
     "output_type": "execute_result"
    }
   ],
   "source": [
    "data_4temp3.head()"
   ]
  },
  {
   "cell_type": "code",
   "execution_count": 15,
   "metadata": {},
   "outputs": [],
   "source": [
    "# 计算平均支出和平均收入的比例\n",
    "type_dict = {'VYDAJ':'out','PRIJEM':'income'}\n",
    "data_4temp2['type'] = data_4temp2.type.map(type_dict)"
   ]
  },
  {
   "cell_type": "code",
   "execution_count": 16,
   "metadata": {},
   "outputs": [],
   "source": [
    "data_4temp4 = data_4temp2.groupby(['account_id','type'])[['amount']].sum()"
   ]
  },
  {
   "cell_type": "code",
   "execution_count": 17,
   "metadata": {},
   "outputs": [
    {
     "data": {
      "text/html": [
       "<div>\n",
       "<style scoped>\n",
       "    .dataframe tbody tr th:only-of-type {\n",
       "        vertical-align: middle;\n",
       "    }\n",
       "\n",
       "    .dataframe tbody tr th {\n",
       "        vertical-align: top;\n",
       "    }\n",
       "\n",
       "    .dataframe thead th {\n",
       "        text-align: right;\n",
       "    }\n",
       "</style>\n",
       "<table border=\"1\" class=\"dataframe\">\n",
       "  <thead>\n",
       "    <tr style=\"text-align: right;\">\n",
       "      <th></th>\n",
       "      <th></th>\n",
       "      <th>amount</th>\n",
       "    </tr>\n",
       "    <tr>\n",
       "      <th>account_id</th>\n",
       "      <th>type</th>\n",
       "      <th></th>\n",
       "    </tr>\n",
       "  </thead>\n",
       "  <tbody>\n",
       "    <tr>\n",
       "      <th rowspan=\"2\" valign=\"top\">2</th>\n",
       "      <th>income</th>\n",
       "      <td>228685.3</td>\n",
       "    </tr>\n",
       "    <tr>\n",
       "      <th>out</th>\n",
       "      <td>153017.6</td>\n",
       "    </tr>\n",
       "    <tr>\n",
       "      <th rowspan=\"2\" valign=\"top\">19</th>\n",
       "      <th>income</th>\n",
       "      <td>225946.0</td>\n",
       "    </tr>\n",
       "    <tr>\n",
       "      <th>out</th>\n",
       "      <td>198016.8</td>\n",
       "    </tr>\n",
       "    <tr>\n",
       "      <th>25</th>\n",
       "      <th>income</th>\n",
       "      <td>659633.6</td>\n",
       "    </tr>\n",
       "  </tbody>\n",
       "</table>\n",
       "</div>"
      ],
      "text/plain": [
       "                     amount\n",
       "account_id type            \n",
       "2          income  228685.3\n",
       "           out     153017.6\n",
       "19         income  225946.0\n",
       "           out     198016.8\n",
       "25         income  659633.6"
      ]
     },
     "execution_count": 17,
     "metadata": {},
     "output_type": "execute_result"
    }
   ],
   "source": [
    "data_4temp4.head()"
   ]
  },
  {
   "cell_type": "code",
   "execution_count": 19,
   "metadata": {},
   "outputs": [],
   "source": [
    "data_4temp5 = pd.pivot_table(data_4temp4, values = 'amount', \n",
    "    index = 'account_id', columns = 'type')"
   ]
  },
  {
   "cell_type": "code",
   "execution_count": 20,
   "metadata": {
    "scrolled": true
   },
   "outputs": [
    {
     "data": {
      "text/html": [
       "<div>\n",
       "<style scoped>\n",
       "    .dataframe tbody tr th:only-of-type {\n",
       "        vertical-align: middle;\n",
       "    }\n",
       "\n",
       "    .dataframe tbody tr th {\n",
       "        vertical-align: top;\n",
       "    }\n",
       "\n",
       "    .dataframe thead th {\n",
       "        text-align: right;\n",
       "    }\n",
       "</style>\n",
       "<table border=\"1\" class=\"dataframe\">\n",
       "  <thead>\n",
       "    <tr style=\"text-align: right;\">\n",
       "      <th>type</th>\n",
       "      <th>income</th>\n",
       "      <th>out</th>\n",
       "    </tr>\n",
       "    <tr>\n",
       "      <th>account_id</th>\n",
       "      <th></th>\n",
       "      <th></th>\n",
       "    </tr>\n",
       "  </thead>\n",
       "  <tbody>\n",
       "    <tr>\n",
       "      <th>2</th>\n",
       "      <td>228685.3</td>\n",
       "      <td>153017.6</td>\n",
       "    </tr>\n",
       "    <tr>\n",
       "      <th>19</th>\n",
       "      <td>225946.0</td>\n",
       "      <td>198016.8</td>\n",
       "    </tr>\n",
       "    <tr>\n",
       "      <th>25</th>\n",
       "      <td>659633.6</td>\n",
       "      <td>629103.2</td>\n",
       "    </tr>\n",
       "    <tr>\n",
       "      <th>37</th>\n",
       "      <td>344702.0</td>\n",
       "      <td>328537.0</td>\n",
       "    </tr>\n",
       "    <tr>\n",
       "      <th>38</th>\n",
       "      <td>148403.7</td>\n",
       "      <td>105091.0</td>\n",
       "    </tr>\n",
       "  </tbody>\n",
       "</table>\n",
       "</div>"
      ],
      "text/plain": [
       "type          income       out\n",
       "account_id                    \n",
       "2           228685.3  153017.6\n",
       "19          225946.0  198016.8\n",
       "25          659633.6  629103.2\n",
       "37          344702.0  328537.0\n",
       "38          148403.7  105091.0"
      ]
     },
     "execution_count": 20,
     "metadata": {},
     "output_type": "execute_result"
    }
   ],
   "source": [
    "data_4temp5.head()"
   ]
  },
  {
   "cell_type": "code",
   "execution_count": 21,
   "metadata": {},
   "outputs": [
    {
     "data": {
      "text/plain": [
       "type\n",
       "income    False\n",
       "out        True\n",
       "dtype: bool"
      ]
     },
     "execution_count": 21,
     "metadata": {},
     "output_type": "execute_result"
    }
   ],
   "source": [
    "data_4temp5.isnull().any()"
   ]
  },
  {
   "cell_type": "code",
   "execution_count": 22,
   "metadata": {},
   "outputs": [],
   "source": [
    "data_4temp5.fillna(0, inplace = True)\n",
    "data_4temp5['r_out_in'] = data_4temp5[\n",
    "    ['out','income']].apply(lambda x: x[0]/x[1], axis = 1)"
   ]
  },
  {
   "cell_type": "code",
   "execution_count": 23,
   "metadata": {},
   "outputs": [
    {
     "data": {
      "text/html": [
       "<div>\n",
       "<style scoped>\n",
       "    .dataframe tbody tr th:only-of-type {\n",
       "        vertical-align: middle;\n",
       "    }\n",
       "\n",
       "    .dataframe tbody tr th {\n",
       "        vertical-align: top;\n",
       "    }\n",
       "\n",
       "    .dataframe thead th {\n",
       "        text-align: right;\n",
       "    }\n",
       "</style>\n",
       "<table border=\"1\" class=\"dataframe\">\n",
       "  <thead>\n",
       "    <tr style=\"text-align: right;\">\n",
       "      <th>type</th>\n",
       "      <th>income</th>\n",
       "      <th>out</th>\n",
       "      <th>r_out_in</th>\n",
       "    </tr>\n",
       "    <tr>\n",
       "      <th>account_id</th>\n",
       "      <th></th>\n",
       "      <th></th>\n",
       "      <th></th>\n",
       "    </tr>\n",
       "  </thead>\n",
       "  <tbody>\n",
       "    <tr>\n",
       "      <th>2</th>\n",
       "      <td>228685.3</td>\n",
       "      <td>153017.6</td>\n",
       "      <td>0.669119</td>\n",
       "    </tr>\n",
       "    <tr>\n",
       "      <th>19</th>\n",
       "      <td>225946.0</td>\n",
       "      <td>198016.8</td>\n",
       "      <td>0.876390</td>\n",
       "    </tr>\n",
       "    <tr>\n",
       "      <th>25</th>\n",
       "      <td>659633.6</td>\n",
       "      <td>629103.2</td>\n",
       "      <td>0.953716</td>\n",
       "    </tr>\n",
       "    <tr>\n",
       "      <th>37</th>\n",
       "      <td>344702.0</td>\n",
       "      <td>328537.0</td>\n",
       "      <td>0.953104</td>\n",
       "    </tr>\n",
       "    <tr>\n",
       "      <th>38</th>\n",
       "      <td>148403.7</td>\n",
       "      <td>105091.0</td>\n",
       "      <td>0.708143</td>\n",
       "    </tr>\n",
       "  </tbody>\n",
       "</table>\n",
       "</div>"
      ],
      "text/plain": [
       "type          income       out  r_out_in\n",
       "account_id                              \n",
       "2           228685.3  153017.6  0.669119\n",
       "19          225946.0  198016.8  0.876390\n",
       "25          659633.6  629103.2  0.953716\n",
       "37          344702.0  328537.0  0.953104\n",
       "38          148403.7  105091.0  0.708143"
      ]
     },
     "execution_count": 23,
     "metadata": {},
     "output_type": "execute_result"
    }
   ],
   "source": [
    "data_4temp5.head()"
   ]
  },
  {
   "cell_type": "code",
   "execution_count": 24,
   "metadata": {},
   "outputs": [],
   "source": [
    "data3 = pd.merge(data, data_4temp3, left_on='account_id', right_index= True, how = 'left')"
   ]
  },
  {
   "cell_type": "code",
   "execution_count": 25,
   "metadata": {},
   "outputs": [],
   "source": [
    "data4 = pd.merge(data3, data_4temp5, left_on='account_id', right_index= True, how = 'left')"
   ]
  },
  {
   "cell_type": "code",
   "execution_count": 26,
   "metadata": {},
   "outputs": [],
   "source": [
    "# 计算贷存比、贷收比\n",
    "data4['r_lb'] = data4[['amount','avg_balance']].apply(lambda x: x[0]/x[1],axis = 1)\n",
    "data4['r_lincome'] = data4[['amount','income']].apply(lambda x: x[0]/x[1],axis = 1)"
   ]
  },
  {
   "cell_type": "code",
   "execution_count": 27,
   "metadata": {},
   "outputs": [],
   "source": [
    "#  删除不必要的编号列\n",
    "data4.drop(['A1','A2','A3','loan_id','account_id','date','type'],axis=1,inplace = True)"
   ]
  },
  {
   "cell_type": "code",
   "execution_count": 28,
   "metadata": {},
   "outputs": [],
   "source": [
    "# 提取状态为C的用于预测。其它样本随机抽样，建立训练集与测试集\n",
    "data_model=data4[data4.status!='C']\n",
    "for_predict=data4[data4.status=='C']\n",
    "# 贷款表（loans）中的还款的状态可分为 \n",
    "# A：代表合同终止，没问题\n",
    "# B：代表合同终止，贷款没支付\n",
    "# C:代表合同处于执行期，至今正常；\n",
    "# D：代表合同处于执行期，欠债状态。对数据进行转换，使A=0，B、D=1，C=2"
   ]
  },
  {
   "cell_type": "code",
   "execution_count": 29,
   "metadata": {},
   "outputs": [],
   "source": [
    "# 选择影响较大的列构造训练集和测试集   \n",
    "# candidates = ['A4', 'A10', 'A11', 'A12','amount', 'duration',\n",
    "#        'A13', 'A14', 'A15', 'A16', 'avg_balance', 'stdev_balance',\n",
    "#        'cv_balance', 'income', 'out', 'r_out_in', 'r_lb', 'r_lincome']\n",
    "\n",
    "# 发现变异系数和代收比是结合使用时logistic回归和lgb的效果最好  # 0.8858(不取整)\n",
    "candidates = ['cv_balance', 'r_lincome']\n",
    "X_select = data_model[candidates]"
   ]
  },
  {
   "cell_type": "code",
   "execution_count": 30,
   "metadata": {},
   "outputs": [],
   "source": [
    "# 标签\n",
    "y_train = data_model['bad_good'].values"
   ]
  },
  {
   "cell_type": "code",
   "execution_count": 31,
   "metadata": {},
   "outputs": [
    {
     "data": {
      "text/plain": [
       "0.37438423645320196"
      ]
     },
     "execution_count": 31,
     "metadata": {},
     "output_type": "execute_result"
    }
   ],
   "source": [
    "# 正负样本比例差距不大\n",
    "np.sum(y_train==1)/np.sum(y_train==0)"
   ]
  },
  {
   "cell_type": "code",
   "execution_count": 32,
   "metadata": {},
   "outputs": [],
   "source": [
    "# 可训练的样本集，用交叉验证法进行分割\n",
    "X = X_select.values\n",
    "# X[X=='?'] = 0\n",
    "X = X.astype(np.float64)"
   ]
  },
  {
   "cell_type": "code",
   "execution_count": 33,
   "metadata": {},
   "outputs": [
    {
     "data": {
      "text/plain": [
       "(279, 2)"
      ]
     },
     "execution_count": 33,
     "metadata": {},
     "output_type": "execute_result"
    }
   ],
   "source": [
    "X.shape"
   ]
  },
  {
   "cell_type": "code",
   "execution_count": 34,
   "metadata": {},
   "outputs": [],
   "source": [
    "for_predict = for_predict[candidates]\n",
    "# 构建训练集与测试集\n",
    "x_predict = for_predict.values\n",
    "# x_predict[x_predict=='?'] = 0\n",
    "X_predict = x_predict.astype(np.float64)"
   ]
  },
  {
   "cell_type": "code",
   "execution_count": 35,
   "metadata": {},
   "outputs": [
    {
     "data": {
      "text/plain": [
       "(403, 2)"
      ]
     },
     "execution_count": 35,
     "metadata": {},
     "output_type": "execute_result"
    }
   ],
   "source": [
    "X_predict.shape"
   ]
  },
  {
   "cell_type": "code",
   "execution_count": 36,
   "metadata": {},
   "outputs": [
    {
     "name": "stdout",
     "output_type": "stream",
     "text": [
      "Fold :1\n",
      "auc score: 0.65476 \n",
      "Fold :2\n",
      "auc score: 0.90476 \n",
      "Fold :3\n",
      "auc score: 0.94643 \n",
      "Fold :4\n",
      "auc score: 0.81875 \n",
      "Fold :5\n",
      "auc score: 0.83125 \n",
      "Fold :6\n",
      "auc score: 0.90938 \n",
      "Fold :7\n",
      "auc score: 0.97857 \n",
      "Fold :8\n",
      "auc score: 0.89286 \n",
      "Fold :9\n",
      "auc score: 0.97143 \n",
      "Fold :10\n",
      "auc score: 0.91429 \n"
     ]
    }
   ],
   "source": [
    "# logistic模型\n",
    "from sklearn.linear_model import SGDClassifier as SGD\n",
    "from sklearn import metrics\n",
    "from sklearn.model_selection import KFold, StratifiedKFold\n",
    "folds = StratifiedKFold(n_splits=10, shuffle=False, random_state=2019)\n",
    "predictions = np.zeros(X_predict.shape[0])\n",
    "a = 0\n",
    "for fold_, (trn_idx, val_idx) in enumerate(folds.split(X, y_train)):\n",
    "    print(\"Fold :{}\".format(fold_ + 1))\n",
    "    trn_data = X[trn_idx]\n",
    "    trn_label = y_train[trn_idx]\n",
    "    val_data = X[val_idx]\n",
    "    val_label = y_train[val_idx]\n",
    "    model_SGD = SGD(alpha=0.00001, random_state=2, shuffle=True, loss='log',max_iter=1000,tol=1e-3)\n",
    "    model_SGD.fit(trn_data, trn_label)  # Fit the model.\n",
    "    # model_SGD.predict_proba(val_data)的输出指：数据属于0的概率和数据属于1的概率\n",
    "    print(\"auc score: {:<8.5f}\".format(metrics.roc_auc_score(val_label, model_SGD.predict_proba(val_data)[:, 1])))\n",
    "    a += metrics.roc_auc_score(val_label, model_SGD.predict_proba(val_data)[:, 1])/ folds.n_splits\n",
    "   # 所有预测值相加再除以folds.n_splits(10)\n",
    "    predictions += model_SGD.predict_proba(X_predict)[:, 1] / folds.n_splits"
   ]
  },
  {
   "cell_type": "code",
   "execution_count": 37,
   "metadata": {},
   "outputs": [
    {
     "name": "stdout",
     "output_type": "stream",
     "text": [
      "0.8822470238095239 (403,)\n"
     ]
    }
   ],
   "source": [
    "print(a,predictions.shape)"
   ]
  },
  {
   "cell_type": "code",
   "execution_count": null,
   "metadata": {},
   "outputs": [],
   "source": [
    "# !pip install lightgbm\n",
    "# !pip install bayesian-optimization"
   ]
  },
  {
   "cell_type": "code",
   "execution_count": 38,
   "metadata": {},
   "outputs": [],
   "source": [
    "#bayesian optimization to find hyperparameter for lightgbm\n",
    "#  本例数据量较小，调参后结果只适合本例的数据\n",
    "import lightgbm as lgb\n",
    "from sklearn.model_selection import KFold,StratifiedKFold\n",
    "from bayes_opt import BayesianOptimization\n",
    "from sklearn.model_selection import train_test_split\n",
    "from sklearn import metrics"
   ]
  },
  {
   "cell_type": "code",
   "execution_count": 39,
   "metadata": {},
   "outputs": [],
   "source": [
    "def LGB_CV(\n",
    "          min_data_in_leaf,\n",
    "          feature_fraction,\n",
    "          bagging_fraction,\n",
    "         ):\n",
    "    \n",
    "    folds = KFold(n_splits=5, shuffle=True, random_state=2019)\n",
    "    oof = np.zeros(X.shape[0])\n",
    "\n",
    "    for fold_, (trn_idx, val_idx) in enumerate(folds.split(X, y_train)):\n",
    "        print(\"fold n°{}\".format(fold_))\n",
    "        trn_data = lgb.Dataset(X[trn_idx],\n",
    "                               label=y_train[trn_idx],\n",
    "                               )\n",
    "        val_data = lgb.Dataset(X[val_idx],\n",
    "                               label=y_train[val_idx],\n",
    "                               )\n",
    "    \n",
    "        param = {\n",
    "            'max_depth': -1,\n",
    "            'min_data_in_leaf': int(min_data_in_leaf), \n",
    "            'objective':'binary',\n",
    "            'bagging_fraction':bagging_fraction,\n",
    "            'feature_fraction':feature_fraction,\n",
    "            'learning_rate': 0.005,\n",
    "            \"boosting\": \"gbdt\",\n",
    "            \"bagging_freq\": 5,\n",
    "            \"bagging_seed\": 11,\n",
    "            \"metric\": 'auc',\n",
    "            \"verbosity\": -1\n",
    "        }\n",
    "    \n",
    "        clf = lgb.train(param,\n",
    "                        trn_data,\n",
    "                        8000,\n",
    "                        valid_sets = [trn_data, val_data],\n",
    "                        verbose_eval=500,\n",
    "                        early_stopping_rounds = 500)\n",
    "        \n",
    "        oof[val_idx] = clf.predict(X[val_idx],\n",
    "                                   num_iteration=clf.best_iteration)\n",
    "        \n",
    "        del clf, trn_idx, val_idx\n",
    "        \n",
    "    return metrics.roc_auc_score(y_train,oof)"
   ]
  },
  {
   "cell_type": "code",
   "execution_count": 40,
   "metadata": {},
   "outputs": [],
   "source": [
    "LGB_BO = BayesianOptimization(LGB_CV, {\n",
    "        'min_data_in_leaf': (2, 40),\n",
    "        'bagging_fraction': (0.01, 0.999),\n",
    "        'feature_fraction':(0.01, 0.999)\n",
    "    })"
   ]
  },
  {
   "cell_type": "code",
   "execution_count": 41,
   "metadata": {
    "collapsed": true
   },
   "outputs": [
    {
     "name": "stdout",
     "output_type": "stream",
     "text": [
      "|   iter    |  target   | baggin... | featur... | min_da... |\n",
      "-------------------------------------------------------------\n",
      "fold n°0\n",
      "Training until validation scores don't improve for 500 rounds.\n",
      "[500]\ttraining's auc: 0.918128\tvalid_1's auc: 0.916327\n",
      "Early stopping, best iteration is:\n",
      "[23]\ttraining's auc: 0.900866\tvalid_1's auc: 0.927891\n",
      "fold n°1\n",
      "Training until validation scores don't improve for 500 rounds.\n",
      "[500]\ttraining's auc: 0.944242\tvalid_1's auc: 0.798374\n",
      "Early stopping, best iteration is:\n",
      "[43]\ttraining's auc: 0.932706\tvalid_1's auc: 0.83252\n",
      "fold n°2\n",
      "Training until validation scores don't improve for 500 rounds.\n",
      "[500]\ttraining's auc: 0.927747\tvalid_1's auc: 0.869106\n",
      "Early stopping, best iteration is:\n",
      "[30]\ttraining's auc: 0.914086\tvalid_1's auc: 0.873984\n",
      "fold n°3\n",
      "Training until validation scores don't improve for 500 rounds.\n",
      "[500]\ttraining's auc: 0.918598\tvalid_1's auc: 0.876768\n",
      "Early stopping, best iteration is:\n",
      "[108]\ttraining's auc: 0.906378\tvalid_1's auc: 0.886869\n",
      "fold n°4\n",
      "Training until validation scores don't improve for 500 rounds.\n",
      "[500]\ttraining's auc: 0.92274\tvalid_1's auc: 0.893728\n",
      "Early stopping, best iteration is:\n",
      "[3]\ttraining's auc: 0.87729\tvalid_1's auc: 0.899826\n",
      "| \u001b[0m 1       \u001b[0m | \u001b[0m 0.7732  \u001b[0m | \u001b[0m 0.7352  \u001b[0m | \u001b[0m 0.1129  \u001b[0m | \u001b[0m 20.78   \u001b[0m |\n",
      "fold n°0\n",
      "Training until validation scores don't improve for 500 rounds.\n",
      "[500]\ttraining's auc: 0.5\tvalid_1's auc: 0.5\n",
      "Early stopping, best iteration is:\n",
      "[1]\ttraining's auc: 0.5\tvalid_1's auc: 0.5\n",
      "fold n°1\n",
      "Training until validation scores don't improve for 500 rounds.\n",
      "[500]\ttraining's auc: 0.5\tvalid_1's auc: 0.5\n",
      "Early stopping, best iteration is:\n",
      "[1]\ttraining's auc: 0.5\tvalid_1's auc: 0.5\n",
      "fold n°2\n",
      "Training until validation scores don't improve for 500 rounds.\n",
      "[500]\ttraining's auc: 0.5\tvalid_1's auc: 0.5\n",
      "Early stopping, best iteration is:\n",
      "[1]\ttraining's auc: 0.5\tvalid_1's auc: 0.5\n",
      "fold n°3\n",
      "Training until validation scores don't improve for 500 rounds.\n",
      "[500]\ttraining's auc: 0.5\tvalid_1's auc: 0.5\n",
      "Early stopping, best iteration is:\n",
      "[1]\ttraining's auc: 0.5\tvalid_1's auc: 0.5\n",
      "fold n°4\n",
      "Training until validation scores don't improve for 500 rounds.\n",
      "[500]\ttraining's auc: 0.5\tvalid_1's auc: 0.5\n",
      "Early stopping, best iteration is:\n",
      "[1]\ttraining's auc: 0.5\tvalid_1's auc: 0.5\n",
      "| \u001b[0m 2       \u001b[0m | \u001b[0m 0.4251  \u001b[0m | \u001b[0m 0.3172  \u001b[0m | \u001b[0m 0.8518  \u001b[0m | \u001b[0m 36.62   \u001b[0m |\n",
      "fold n°0\n",
      "Training until validation scores don't improve for 500 rounds.\n",
      "[500]\ttraining's auc: 0.5\tvalid_1's auc: 0.5\n",
      "Early stopping, best iteration is:\n",
      "[1]\ttraining's auc: 0.5\tvalid_1's auc: 0.5\n",
      "fold n°1\n",
      "Training until validation scores don't improve for 500 rounds.\n",
      "[500]\ttraining's auc: 0.5\tvalid_1's auc: 0.5\n",
      "Early stopping, best iteration is:\n",
      "[1]\ttraining's auc: 0.5\tvalid_1's auc: 0.5\n",
      "fold n°2\n",
      "Training until validation scores don't improve for 500 rounds.\n",
      "[500]\ttraining's auc: 0.5\tvalid_1's auc: 0.5\n",
      "Early stopping, best iteration is:\n",
      "[1]\ttraining's auc: 0.5\tvalid_1's auc: 0.5\n",
      "fold n°3\n",
      "Training until validation scores don't improve for 500 rounds.\n",
      "[500]\ttraining's auc: 0.5\tvalid_1's auc: 0.5\n",
      "Early stopping, best iteration is:\n",
      "[1]\ttraining's auc: 0.5\tvalid_1's auc: 0.5\n",
      "fold n°4\n",
      "Training until validation scores don't improve for 500 rounds.\n",
      "[500]\ttraining's auc: 0.5\tvalid_1's auc: 0.5\n",
      "Early stopping, best iteration is:\n",
      "[1]\ttraining's auc: 0.5\tvalid_1's auc: 0.5\n",
      "| \u001b[0m 3       \u001b[0m | \u001b[0m 0.4251  \u001b[0m | \u001b[0m 0.01    \u001b[0m | \u001b[0m 0.999   \u001b[0m | \u001b[0m 2.0     \u001b[0m |\n",
      "=============================================================\n"
     ]
    }
   ],
   "source": [
    "LGB_BO.maximize(init_points=1,n_iter=2)"
   ]
  },
  {
   "cell_type": "code",
   "execution_count": 42,
   "metadata": {},
   "outputs": [
    {
     "data": {
      "text/plain": [
       "0.7732045631319678"
      ]
     },
     "execution_count": 42,
     "metadata": {},
     "output_type": "execute_result"
    }
   ],
   "source": [
    "LGB_BO.max['target']"
   ]
  },
  {
   "cell_type": "code",
   "execution_count": 43,
   "metadata": {},
   "outputs": [
    {
     "data": {
      "text/plain": [
       "{'bagging_fraction': 0.7351778705348716,\n",
       " 'feature_fraction': 0.11287860341482422,\n",
       " 'min_data_in_leaf': 20.779283696886267}"
      ]
     },
     "execution_count": 43,
     "metadata": {},
     "output_type": "execute_result"
    }
   ],
   "source": [
    "LGB_BO.max['params']"
   ]
  },
  {
   "cell_type": "code",
   "execution_count": 44,
   "metadata": {},
   "outputs": [
    {
     "data": {
      "text/plain": [
       "(403, 2)"
      ]
     },
     "execution_count": 44,
     "metadata": {},
     "output_type": "execute_result"
    }
   ],
   "source": [
    "X_predict.shape"
   ]
  },
  {
   "cell_type": "code",
   "execution_count": 45,
   "metadata": {},
   "outputs": [
    {
     "name": "stdout",
     "output_type": "stream",
     "text": [
      "fold n°0\n",
      "Training until validation scores don't improve for 500 rounds.\n",
      "[500]\ttraining's auc: 0.916937\tvalid_1's auc: 0.917007\n",
      "Early stopping, best iteration is:\n",
      "[26]\ttraining's auc: 0.901732\tvalid_1's auc: 0.927891\n",
      "fold n°1\n",
      "Training until validation scores don't improve for 500 rounds.\n",
      "[500]\ttraining's auc: 0.942724\tvalid_1's auc: 0.8\n",
      "Early stopping, best iteration is:\n",
      "[23]\ttraining's auc: 0.920664\tvalid_1's auc: 0.835772\n",
      "fold n°2\n",
      "Training until validation scores don't improve for 500 rounds.\n",
      "[500]\ttraining's auc: 0.92542\tvalid_1's auc: 0.86748\n",
      "Early stopping, best iteration is:\n",
      "[30]\ttraining's auc: 0.910089\tvalid_1's auc: 0.873984\n",
      "fold n°3\n",
      "Training until validation scores don't improve for 500 rounds.\n",
      "[500]\ttraining's auc: 0.917575\tvalid_1's auc: 0.872727\n",
      "Early stopping, best iteration is:\n",
      "[115]\ttraining's auc: 0.905307\tvalid_1's auc: 0.885859\n",
      "fold n°4\n",
      "Training until validation scores don't improve for 500 rounds.\n",
      "[500]\ttraining's auc: 0.921396\tvalid_1's auc: 0.898955\n",
      "[1000]\ttraining's auc: 0.931153\tvalid_1's auc: 0.897213\n",
      "[1500]\ttraining's auc: 0.945092\tvalid_1's auc: 0.904181\n",
      "Early stopping, best iteration is:\n",
      "[1306]\ttraining's auc: 0.940213\tvalid_1's auc: 0.905923\n"
     ]
    }
   ],
   "source": [
    "folds = KFold(n_splits=5, shuffle=True, random_state=2019)\n",
    "oof = np.zeros(X.shape[0])\n",
    "predictions = np.zeros(X_predict.shape[0])\n",
    "for fold_, (trn_idx, val_idx) in enumerate(folds.split(X, y_train)):\n",
    "    print(\"fold n°{}\".format(fold_))\n",
    "    trn_data = lgb.Dataset(X[trn_idx],\n",
    "                           label=y_train[trn_idx],\n",
    "                           )\n",
    "    val_data = lgb.Dataset(X[val_idx],\n",
    "                           label=y_train[val_idx],\n",
    "                           )\n",
    "\n",
    "    param = {\n",
    "        'max_depth': -1,\n",
    "        'min_data_in_leaf':21, \n",
    "        'objective':'binary',\n",
    "        'bagging_fraction':0.73,\n",
    "        'feature_fraction':0.11,\n",
    "        'learning_rate': 0.005,\n",
    "        \"boosting\": \"gbdt\",\n",
    "        \"bagging_freq\": 5,\n",
    "        \"bagging_seed\": 11,\n",
    "        \"metric\": 'auc',\n",
    "        \"verbosity\": -1\n",
    "    }\n",
    "\n",
    "    clf = lgb.train(param,\n",
    "                    trn_data,\n",
    "                    8000,\n",
    "                    valid_sets = [trn_data, val_data],\n",
    "                    verbose_eval=500,\n",
    "                    early_stopping_rounds = 500)\n",
    "\n",
    "    oof[val_idx] = clf.predict(X[val_idx],\n",
    "                               num_iteration=clf.best_iteration)\n",
    "    predictions = predictions + clf.predict(X_predict, num_iteration=clf.best_iteration) / folds.n_splits"
   ]
  },
  {
   "cell_type": "code",
   "execution_count": 46,
   "metadata": {},
   "outputs": [
    {
     "data": {
      "text/plain": [
       "0.88514"
      ]
     },
     "execution_count": 46,
     "metadata": {},
     "output_type": "execute_result"
    }
   ],
   "source": [
    "(0.92+0.8357+0.874+0.886+0.91)/5"
   ]
  },
  {
   "cell_type": "code",
   "execution_count": 47,
   "metadata": {},
   "outputs": [
    {
     "data": {
      "text/plain": [
       "(403,)"
      ]
     },
     "execution_count": 47,
     "metadata": {},
     "output_type": "execute_result"
    }
   ],
   "source": [
    "predictions.shape"
   ]
  }
 ],
 "metadata": {
  "kernelspec": {
   "display_name": "Python 3",
   "language": "python",
   "name": "python3"
  },
  "language_info": {
   "codemirror_mode": {
    "name": "ipython",
    "version": 3
   },
   "file_extension": ".py",
   "mimetype": "text/x-python",
   "name": "python",
   "nbconvert_exporter": "python",
   "pygments_lexer": "ipython3",
   "version": "3.7.0"
  }
 },
 "nbformat": 4,
 "nbformat_minor": 2
}
