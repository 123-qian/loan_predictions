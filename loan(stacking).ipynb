{
 "cells": [
  {
   "cell_type": "code",
   "execution_count": 1,
   "metadata": {},
   "outputs": [],
   "source": [
    "import numpy as np\n",
    "import pandas as pd"
   ]
  },
  {
   "cell_type": "code",
   "execution_count": 2,
   "metadata": {},
   "outputs": [],
   "source": [
    "loan = pd.read_csv('loan.txt',encoding = 'gbk',sep=';')\n",
    "client = pd.read_csv('client.txt',encoding = 'gbk',sep=';')\n",
    "account = pd.read_csv('account.txt',encoding = 'gbk',sep=';')\n",
    "order = pd.read_csv('order.txt',encoding = 'gbk',sep=';')\n",
    "disp = pd.read_csv('disp.txt',encoding = 'gbk',sep=';')\n",
    "district = pd.read_csv('district.txt',encoding = 'gbk',sep=';')\n",
    "card = pd.read_csv('card.txt', encoding='gbk', sep=';')\n",
    "trans = pd.read_csv('trans.txt', encoding='gbk', sep=';',dtype={\"bank\":object})"
   ]
  },
  {
   "cell_type": "code",
   "execution_count": 3,
   "metadata": {},
   "outputs": [],
   "source": [
    "# 找出status列的唯一值并进行映射\n",
    "loan.status.unique()\n",
    "# 增加新的一列 ，通过status进行映射\n",
    "bad_good = {'B':1,'D':1,'A':0,'C':2}\n",
    "loan['bad_good'] = loan.status.map(bad_good)"
   ]
  },
  {
   "cell_type": "code",
   "execution_count": 4,
   "metadata": {},
   "outputs": [],
   "source": [
    "# 贷款人的年龄、性别\n",
    "data = pd.merge(loan,disp,on = 'account_id',how='left')\n",
    "data = pd.merge(data,client,on='client_id',how='left')\n",
    "data = data[data.type=='OWNER']"
   ]
  },
  {
   "cell_type": "code",
   "execution_count": 5,
   "metadata": {},
   "outputs": [
    {
     "data": {
      "text/html": [
       "<div>\n",
       "<style scoped>\n",
       "    .dataframe tbody tr th:only-of-type {\n",
       "        vertical-align: middle;\n",
       "    }\n",
       "\n",
       "    .dataframe tbody tr th {\n",
       "        vertical-align: top;\n",
       "    }\n",
       "\n",
       "    .dataframe thead th {\n",
       "        text-align: right;\n",
       "    }\n",
       "</style>\n",
       "<table border=\"1\" class=\"dataframe\">\n",
       "  <thead>\n",
       "    <tr style=\"text-align: right;\">\n",
       "      <th></th>\n",
       "      <th>loan_id</th>\n",
       "      <th>account_id</th>\n",
       "      <th>date</th>\n",
       "      <th>amount</th>\n",
       "      <th>duration</th>\n",
       "      <th>payments</th>\n",
       "      <th>status</th>\n",
       "      <th>bad_good</th>\n",
       "      <th>disp_id</th>\n",
       "      <th>client_id</th>\n",
       "      <th>...</th>\n",
       "      <th>A7</th>\n",
       "      <th>A8</th>\n",
       "      <th>A9</th>\n",
       "      <th>A10</th>\n",
       "      <th>A11</th>\n",
       "      <th>A12</th>\n",
       "      <th>A13</th>\n",
       "      <th>A14</th>\n",
       "      <th>A15</th>\n",
       "      <th>A16</th>\n",
       "    </tr>\n",
       "  </thead>\n",
       "  <tbody>\n",
       "    <tr>\n",
       "      <th>0</th>\n",
       "      <td>5314</td>\n",
       "      <td>1787</td>\n",
       "      <td>930705</td>\n",
       "      <td>96396</td>\n",
       "      <td>12</td>\n",
       "      <td>8033.0</td>\n",
       "      <td>B</td>\n",
       "      <td>1</td>\n",
       "      <td>2166</td>\n",
       "      <td>2166</td>\n",
       "      <td>...</td>\n",
       "      <td>8</td>\n",
       "      <td>2</td>\n",
       "      <td>10</td>\n",
       "      <td>81.8</td>\n",
       "      <td>9650</td>\n",
       "      <td>3.38</td>\n",
       "      <td>3.67</td>\n",
       "      <td>100</td>\n",
       "      <td>2985</td>\n",
       "      <td>2804</td>\n",
       "    </tr>\n",
       "    <tr>\n",
       "      <th>1</th>\n",
       "      <td>5316</td>\n",
       "      <td>1801</td>\n",
       "      <td>930711</td>\n",
       "      <td>165960</td>\n",
       "      <td>36</td>\n",
       "      <td>4610.0</td>\n",
       "      <td>A</td>\n",
       "      <td>0</td>\n",
       "      <td>2181</td>\n",
       "      <td>2181</td>\n",
       "      <td>...</td>\n",
       "      <td>7</td>\n",
       "      <td>3</td>\n",
       "      <td>10</td>\n",
       "      <td>73.5</td>\n",
       "      <td>8369</td>\n",
       "      <td>1.79</td>\n",
       "      <td>2.31</td>\n",
       "      <td>117</td>\n",
       "      <td>2854</td>\n",
       "      <td>2618</td>\n",
       "    </tr>\n",
       "    <tr>\n",
       "      <th>2</th>\n",
       "      <td>6863</td>\n",
       "      <td>9188</td>\n",
       "      <td>930728</td>\n",
       "      <td>127080</td>\n",
       "      <td>60</td>\n",
       "      <td>2118.0</td>\n",
       "      <td>A</td>\n",
       "      <td>0</td>\n",
       "      <td>11006</td>\n",
       "      <td>11314</td>\n",
       "      <td>...</td>\n",
       "      <td>6</td>\n",
       "      <td>1</td>\n",
       "      <td>5</td>\n",
       "      <td>53.5</td>\n",
       "      <td>8390</td>\n",
       "      <td>2.28</td>\n",
       "      <td>2.89</td>\n",
       "      <td>132</td>\n",
       "      <td>2080</td>\n",
       "      <td>2122</td>\n",
       "    </tr>\n",
       "    <tr>\n",
       "      <th>3</th>\n",
       "      <td>5325</td>\n",
       "      <td>1843</td>\n",
       "      <td>930803</td>\n",
       "      <td>105804</td>\n",
       "      <td>36</td>\n",
       "      <td>2939.0</td>\n",
       "      <td>A</td>\n",
       "      <td>0</td>\n",
       "      <td>2235</td>\n",
       "      <td>2235</td>\n",
       "      <td>...</td>\n",
       "      <td>10</td>\n",
       "      <td>1</td>\n",
       "      <td>9</td>\n",
       "      <td>74.8</td>\n",
       "      <td>10045</td>\n",
       "      <td>1.42</td>\n",
       "      <td>1.71</td>\n",
       "      <td>135</td>\n",
       "      <td>6604</td>\n",
       "      <td>6295</td>\n",
       "    </tr>\n",
       "    <tr>\n",
       "      <th>4</th>\n",
       "      <td>7240</td>\n",
       "      <td>11013</td>\n",
       "      <td>930906</td>\n",
       "      <td>274740</td>\n",
       "      <td>60</td>\n",
       "      <td>4579.0</td>\n",
       "      <td>A</td>\n",
       "      <td>0</td>\n",
       "      <td>13231</td>\n",
       "      <td>13539</td>\n",
       "      <td>...</td>\n",
       "      <td>5</td>\n",
       "      <td>1</td>\n",
       "      <td>5</td>\n",
       "      <td>50.5</td>\n",
       "      <td>8288</td>\n",
       "      <td>3.79</td>\n",
       "      <td>4.52</td>\n",
       "      <td>110</td>\n",
       "      <td>1562</td>\n",
       "      <td>1460</td>\n",
       "    </tr>\n",
       "  </tbody>\n",
       "</table>\n",
       "<p>5 rows × 29 columns</p>\n",
       "</div>"
      ],
      "text/plain": [
       "   loan_id  account_id    date  amount  duration  payments status  bad_good  \\\n",
       "0     5314        1787  930705   96396        12    8033.0      B         1   \n",
       "1     5316        1801  930711  165960        36    4610.0      A         0   \n",
       "2     6863        9188  930728  127080        60    2118.0      A         0   \n",
       "3     5325        1843  930803  105804        36    2939.0      A         0   \n",
       "4     7240       11013  930906  274740        60    4579.0      A         0   \n",
       "\n",
       "   disp_id  client_id  ...   A7  A8  A9   A10    A11   A12   A13  A14   A15  \\\n",
       "0     2166       2166  ...    8   2  10  81.8   9650  3.38  3.67  100  2985   \n",
       "1     2181       2181  ...    7   3  10  73.5   8369  1.79  2.31  117  2854   \n",
       "2    11006      11314  ...    6   1   5  53.5   8390  2.28  2.89  132  2080   \n",
       "3     2235       2235  ...   10   1   9  74.8  10045  1.42  1.71  135  6604   \n",
       "4    13231      13539  ...    5   1   5  50.5   8288  3.79  4.52  110  1562   \n",
       "\n",
       "    A16  \n",
       "0  2804  \n",
       "1  2618  \n",
       "2  2122  \n",
       "3  6295  \n",
       "4  1460  \n",
       "\n",
       "[5 rows x 29 columns]"
      ]
     },
     "execution_count": 5,
     "metadata": {},
     "output_type": "execute_result"
    }
   ],
   "source": [
    "# 贷款人居住地的经济状况\n",
    "data = pd.merge(data, district, left_on = 'district_id', right_on = 'A1', how = 'left')\n",
    "data.head()"
   ]
  },
  {
   "cell_type": "code",
   "execution_count": 6,
   "metadata": {},
   "outputs": [],
   "source": [
    "# 将date转化为日期类型\n",
    "data['date'] = data['date'].astype('str')\n",
    "data['date'] = '19' + data['date']\n",
    "data['date'] = pd.to_datetime(data['date'])"
   ]
  },
  {
   "cell_type": "code",
   "execution_count": 7,
   "metadata": {},
   "outputs": [],
   "source": [
    "# 计算每个账户余额的平均值、标准差\n",
    "data_4temp1 = pd.merge(loan[['account_id', 'date']],\n",
    "                       trans[['account_id','type','amount','balance','date']],\n",
    "                       on = 'account_id')"
   ]
  },
  {
   "cell_type": "code",
   "execution_count": 8,
   "metadata": {},
   "outputs": [],
   "source": [
    "data_4temp1.columns = ['account_id', 'date', 'type', 'amount', 'balance', 't_date']\n",
    "data_4temp1 = data_4temp1.sort_values(by=['account_id','t_date'])"
   ]
  },
  {
   "cell_type": "code",
   "execution_count": 9,
   "metadata": {},
   "outputs": [],
   "source": [
    "# 将date,t_date转化为日期类型\n",
    "def convert(L):\n",
    "    for l in L:\n",
    "        data_4temp1[l] =  data_4temp1[l].astype('str')\n",
    "        data_4temp1[l] = '19' + data_4temp1[l]\n",
    "        data_4temp1[l] = pd.to_datetime(data_4temp1[l])\n",
    "L = ['date','t_date']\n",
    "convert(L)"
   ]
  },
  {
   "cell_type": "code",
   "execution_count": 10,
   "metadata": {},
   "outputs": [
    {
     "data": {
      "text/html": [
       "<div>\n",
       "<style scoped>\n",
       "    .dataframe tbody tr th:only-of-type {\n",
       "        vertical-align: middle;\n",
       "    }\n",
       "\n",
       "    .dataframe tbody tr th {\n",
       "        vertical-align: top;\n",
       "    }\n",
       "\n",
       "    .dataframe thead th {\n",
       "        text-align: right;\n",
       "    }\n",
       "</style>\n",
       "<table border=\"1\" class=\"dataframe\">\n",
       "  <thead>\n",
       "    <tr style=\"text-align: right;\">\n",
       "      <th></th>\n",
       "      <th>account_id</th>\n",
       "      <th>date</th>\n",
       "      <th>type</th>\n",
       "      <th>amount</th>\n",
       "      <th>balance</th>\n",
       "      <th>t_date</th>\n",
       "    </tr>\n",
       "  </thead>\n",
       "  <tbody>\n",
       "    <tr>\n",
       "      <th>10020</th>\n",
       "      <td>2</td>\n",
       "      <td>1994-01-05</td>\n",
       "      <td>PRIJEM</td>\n",
       "      <td>1100.0</td>\n",
       "      <td>1100.0</td>\n",
       "      <td>1993-02-26</td>\n",
       "    </tr>\n",
       "    <tr>\n",
       "      <th>10021</th>\n",
       "      <td>2</td>\n",
       "      <td>1994-01-05</td>\n",
       "      <td>PRIJEM</td>\n",
       "      <td>20236.0</td>\n",
       "      <td>21336.0</td>\n",
       "      <td>1993-03-12</td>\n",
       "    </tr>\n",
       "    <tr>\n",
       "      <th>10022</th>\n",
       "      <td>2</td>\n",
       "      <td>1994-01-05</td>\n",
       "      <td>PRIJEM</td>\n",
       "      <td>3700.0</td>\n",
       "      <td>25036.0</td>\n",
       "      <td>1993-03-28</td>\n",
       "    </tr>\n",
       "    <tr>\n",
       "      <th>10023</th>\n",
       "      <td>2</td>\n",
       "      <td>1994-01-05</td>\n",
       "      <td>PRIJEM</td>\n",
       "      <td>13.5</td>\n",
       "      <td>25049.5</td>\n",
       "      <td>1993-03-31</td>\n",
       "    </tr>\n",
       "    <tr>\n",
       "      <th>10024</th>\n",
       "      <td>2</td>\n",
       "      <td>1994-01-05</td>\n",
       "      <td>PRIJEM</td>\n",
       "      <td>20236.0</td>\n",
       "      <td>45285.5</td>\n",
       "      <td>1993-04-12</td>\n",
       "    </tr>\n",
       "  </tbody>\n",
       "</table>\n",
       "</div>"
      ],
      "text/plain": [
       "       account_id       date    type   amount  balance     t_date\n",
       "10020           2 1994-01-05  PRIJEM   1100.0   1100.0 1993-02-26\n",
       "10021           2 1994-01-05  PRIJEM  20236.0  21336.0 1993-03-12\n",
       "10022           2 1994-01-05  PRIJEM   3700.0  25036.0 1993-03-28\n",
       "10023           2 1994-01-05  PRIJEM     13.5  25049.5 1993-03-31\n",
       "10024           2 1994-01-05  PRIJEM  20236.0  45285.5 1993-04-12"
      ]
     },
     "execution_count": 10,
     "metadata": {},
     "output_type": "execute_result"
    }
   ],
   "source": [
    "data_4temp1.head()"
   ]
  },
  {
   "cell_type": "code",
   "execution_count": 11,
   "metadata": {},
   "outputs": [],
   "source": [
    "# # 将balance列和amount列四舍五入\n",
    "# data_4temp1['balance'] = round(data_4temp1['balance'])\n",
    "# data_4temp1['amount'] = round(data_4temp1['amount'])\n",
    "# # 将balance列和amount列转换数据类型为int\n",
    "# data_4temp1[['balance','amount']] = data_4temp1[['balance','amount']].astype(int)"
   ]
  },
  {
   "cell_type": "code",
   "execution_count": 12,
   "metadata": {},
   "outputs": [],
   "source": [
    "# 提取交易数据\n",
    "import datetime\n",
    "data_4temp2 = data_4temp1[data_4temp1.date>data_4temp1.t_date]\n",
    "data_4temp2 = data_4temp2[data_4temp2.date<data_4temp2.t_date+datetime.timedelta(days=365)]"
   ]
  },
  {
   "cell_type": "code",
   "execution_count": 13,
   "metadata": {
    "scrolled": true
   },
   "outputs": [],
   "source": [
    "# 计算变异系数\n",
    "def f(data_4temp2):\n",
    "    avg_balance = data_4temp2['balance'].mean()\n",
    "    stdev_balance = data_4temp2['balance'].std() \n",
    "    return pd.Series([avg_balance,stdev_balance], index=['avg_balance','stdev_balance'])\n",
    "data_4temp3 = data_4temp2.groupby('account_id').apply(f)\n",
    "data_4temp3['cv_balance'] = data_4temp3[['avg_balance','stdev_balance']].apply(lambda x: x[1]/x[0],axis = 1)"
   ]
  },
  {
   "cell_type": "code",
   "execution_count": 14,
   "metadata": {},
   "outputs": [
    {
     "data": {
      "text/html": [
       "<div>\n",
       "<style scoped>\n",
       "    .dataframe tbody tr th:only-of-type {\n",
       "        vertical-align: middle;\n",
       "    }\n",
       "\n",
       "    .dataframe tbody tr th {\n",
       "        vertical-align: top;\n",
       "    }\n",
       "\n",
       "    .dataframe thead th {\n",
       "        text-align: right;\n",
       "    }\n",
       "</style>\n",
       "<table border=\"1\" class=\"dataframe\">\n",
       "  <thead>\n",
       "    <tr style=\"text-align: right;\">\n",
       "      <th></th>\n",
       "      <th>avg_balance</th>\n",
       "      <th>stdev_balance</th>\n",
       "      <th>cv_balance</th>\n",
       "    </tr>\n",
       "    <tr>\n",
       "      <th>account_id</th>\n",
       "      <th></th>\n",
       "      <th></th>\n",
       "      <th></th>\n",
       "    </tr>\n",
       "  </thead>\n",
       "  <tbody>\n",
       "    <tr>\n",
       "      <th>2</th>\n",
       "      <td>32590.624074</td>\n",
       "      <td>12061.705682</td>\n",
       "      <td>0.370097</td>\n",
       "    </tr>\n",
       "    <tr>\n",
       "      <th>19</th>\n",
       "      <td>25871.173684</td>\n",
       "      <td>15057.448942</td>\n",
       "      <td>0.582016</td>\n",
       "    </tr>\n",
       "    <tr>\n",
       "      <th>25</th>\n",
       "      <td>60792.815504</td>\n",
       "      <td>21315.682316</td>\n",
       "      <td>0.350628</td>\n",
       "    </tr>\n",
       "    <tr>\n",
       "      <th>37</th>\n",
       "      <td>38528.082243</td>\n",
       "      <td>22177.512550</td>\n",
       "      <td>0.575619</td>\n",
       "    </tr>\n",
       "    <tr>\n",
       "      <th>38</th>\n",
       "      <td>31383.449091</td>\n",
       "      <td>10950.811533</td>\n",
       "      <td>0.348936</td>\n",
       "    </tr>\n",
       "  </tbody>\n",
       "</table>\n",
       "</div>"
      ],
      "text/plain": [
       "             avg_balance  stdev_balance  cv_balance\n",
       "account_id                                         \n",
       "2           32590.624074   12061.705682    0.370097\n",
       "19          25871.173684   15057.448942    0.582016\n",
       "25          60792.815504   21315.682316    0.350628\n",
       "37          38528.082243   22177.512550    0.575619\n",
       "38          31383.449091   10950.811533    0.348936"
      ]
     },
     "execution_count": 14,
     "metadata": {},
     "output_type": "execute_result"
    }
   ],
   "source": [
    "data_4temp3.head()"
   ]
  },
  {
   "cell_type": "code",
   "execution_count": 15,
   "metadata": {},
   "outputs": [],
   "source": [
    "# 计算平均支出和平均收入的比例\n",
    "type_dict = {'VYDAJ':'out','PRIJEM':'income'}\n",
    "data_4temp2['type'] = data_4temp2.type.map(type_dict)"
   ]
  },
  {
   "cell_type": "code",
   "execution_count": 16,
   "metadata": {},
   "outputs": [],
   "source": [
    "data_4temp4 = data_4temp2.groupby(['account_id','type'])[['amount']].sum()"
   ]
  },
  {
   "cell_type": "code",
   "execution_count": 17,
   "metadata": {},
   "outputs": [],
   "source": [
    "data_4temp5 = pd.pivot_table(data_4temp4, values = 'amount', \n",
    "    index = 'account_id', columns = 'type')"
   ]
  },
  {
   "cell_type": "code",
   "execution_count": 18,
   "metadata": {},
   "outputs": [
    {
     "data": {
      "text/plain": [
       "type\n",
       "income    False\n",
       "out        True\n",
       "dtype: bool"
      ]
     },
     "execution_count": 18,
     "metadata": {},
     "output_type": "execute_result"
    }
   ],
   "source": [
    "data_4temp5.isnull().any()"
   ]
  },
  {
   "cell_type": "code",
   "execution_count": 19,
   "metadata": {},
   "outputs": [],
   "source": [
    "data_4temp5.fillna(0, inplace = True)\n",
    "# 计算平均支出和平均收入的比例\n",
    "data_4temp5['r_out_in'] = data_4temp5[\n",
    "    ['out','income']].apply(lambda x: x[0]/x[1], axis = 1)"
   ]
  },
  {
   "cell_type": "code",
   "execution_count": 20,
   "metadata": {},
   "outputs": [
    {
     "data": {
      "text/html": [
       "<div>\n",
       "<style scoped>\n",
       "    .dataframe tbody tr th:only-of-type {\n",
       "        vertical-align: middle;\n",
       "    }\n",
       "\n",
       "    .dataframe tbody tr th {\n",
       "        vertical-align: top;\n",
       "    }\n",
       "\n",
       "    .dataframe thead th {\n",
       "        text-align: right;\n",
       "    }\n",
       "</style>\n",
       "<table border=\"1\" class=\"dataframe\">\n",
       "  <thead>\n",
       "    <tr style=\"text-align: right;\">\n",
       "      <th>type</th>\n",
       "      <th>income</th>\n",
       "      <th>out</th>\n",
       "      <th>r_out_in</th>\n",
       "    </tr>\n",
       "    <tr>\n",
       "      <th>account_id</th>\n",
       "      <th></th>\n",
       "      <th></th>\n",
       "      <th></th>\n",
       "    </tr>\n",
       "  </thead>\n",
       "  <tbody>\n",
       "    <tr>\n",
       "      <th>2</th>\n",
       "      <td>228685.3</td>\n",
       "      <td>153017.6</td>\n",
       "      <td>0.669119</td>\n",
       "    </tr>\n",
       "    <tr>\n",
       "      <th>19</th>\n",
       "      <td>225946.0</td>\n",
       "      <td>198016.8</td>\n",
       "      <td>0.876390</td>\n",
       "    </tr>\n",
       "    <tr>\n",
       "      <th>25</th>\n",
       "      <td>659633.6</td>\n",
       "      <td>629103.2</td>\n",
       "      <td>0.953716</td>\n",
       "    </tr>\n",
       "    <tr>\n",
       "      <th>37</th>\n",
       "      <td>344702.0</td>\n",
       "      <td>328537.0</td>\n",
       "      <td>0.953104</td>\n",
       "    </tr>\n",
       "    <tr>\n",
       "      <th>38</th>\n",
       "      <td>148403.7</td>\n",
       "      <td>105091.0</td>\n",
       "      <td>0.708143</td>\n",
       "    </tr>\n",
       "  </tbody>\n",
       "</table>\n",
       "</div>"
      ],
      "text/plain": [
       "type          income       out  r_out_in\n",
       "account_id                              \n",
       "2           228685.3  153017.6  0.669119\n",
       "19          225946.0  198016.8  0.876390\n",
       "25          659633.6  629103.2  0.953716\n",
       "37          344702.0  328537.0  0.953104\n",
       "38          148403.7  105091.0  0.708143"
      ]
     },
     "execution_count": 20,
     "metadata": {},
     "output_type": "execute_result"
    }
   ],
   "source": [
    "data_4temp5.head()"
   ]
  },
  {
   "cell_type": "code",
   "execution_count": 21,
   "metadata": {},
   "outputs": [],
   "source": [
    "data3 = pd.merge(data, data_4temp3, left_on='account_id', right_index= True, how = 'left')"
   ]
  },
  {
   "cell_type": "code",
   "execution_count": 22,
   "metadata": {},
   "outputs": [],
   "source": [
    "data4 = pd.merge(data3, data_4temp5, left_on='account_id', right_index= True, how = 'left')"
   ]
  },
  {
   "cell_type": "code",
   "execution_count": 23,
   "metadata": {},
   "outputs": [],
   "source": [
    "# 计算贷存比、贷收比\n",
    "data4['r_lb'] = data4[['amount','avg_balance']].apply(lambda x: x[0]/x[1],axis = 1)\n",
    "data4['r_lincome'] = data4[['amount','income']].apply(lambda x: x[0]/x[1],axis = 1)"
   ]
  },
  {
   "cell_type": "code",
   "execution_count": 24,
   "metadata": {},
   "outputs": [],
   "source": [
    "data4.drop(['A1','A2','A3','loan_id','account_id','date','type'],axis=1,inplace = True)"
   ]
  },
  {
   "cell_type": "code",
   "execution_count": 25,
   "metadata": {},
   "outputs": [
    {
     "data": {
      "text/html": [
       "<div>\n",
       "<style scoped>\n",
       "    .dataframe tbody tr th:only-of-type {\n",
       "        vertical-align: middle;\n",
       "    }\n",
       "\n",
       "    .dataframe tbody tr th {\n",
       "        vertical-align: top;\n",
       "    }\n",
       "\n",
       "    .dataframe thead th {\n",
       "        text-align: right;\n",
       "    }\n",
       "</style>\n",
       "<table border=\"1\" class=\"dataframe\">\n",
       "  <thead>\n",
       "    <tr style=\"text-align: right;\">\n",
       "      <th></th>\n",
       "      <th>amount</th>\n",
       "      <th>duration</th>\n",
       "      <th>payments</th>\n",
       "      <th>status</th>\n",
       "      <th>bad_good</th>\n",
       "      <th>disp_id</th>\n",
       "      <th>client_id</th>\n",
       "      <th>birth_number</th>\n",
       "      <th>district_id</th>\n",
       "      <th>A4</th>\n",
       "      <th>...</th>\n",
       "      <th>A15</th>\n",
       "      <th>A16</th>\n",
       "      <th>avg_balance</th>\n",
       "      <th>stdev_balance</th>\n",
       "      <th>cv_balance</th>\n",
       "      <th>income</th>\n",
       "      <th>out</th>\n",
       "      <th>r_out_in</th>\n",
       "      <th>r_lb</th>\n",
       "      <th>r_lincome</th>\n",
       "    </tr>\n",
       "  </thead>\n",
       "  <tbody>\n",
       "    <tr>\n",
       "      <th>0</th>\n",
       "      <td>96396</td>\n",
       "      <td>12</td>\n",
       "      <td>8033.0</td>\n",
       "      <td>B</td>\n",
       "      <td>1</td>\n",
       "      <td>2166</td>\n",
       "      <td>2166</td>\n",
       "      <td>475722</td>\n",
       "      <td>30</td>\n",
       "      <td>94812</td>\n",
       "      <td>...</td>\n",
       "      <td>2985</td>\n",
       "      <td>2804</td>\n",
       "      <td>12250.000000</td>\n",
       "      <td>8330.866301</td>\n",
       "      <td>0.680071</td>\n",
       "      <td>20100.0</td>\n",
       "      <td>0.0</td>\n",
       "      <td>0.000000</td>\n",
       "      <td>7.869061</td>\n",
       "      <td>4.795821</td>\n",
       "    </tr>\n",
       "    <tr>\n",
       "      <th>1</th>\n",
       "      <td>165960</td>\n",
       "      <td>36</td>\n",
       "      <td>4610.0</td>\n",
       "      <td>A</td>\n",
       "      <td>0</td>\n",
       "      <td>2181</td>\n",
       "      <td>2181</td>\n",
       "      <td>680722</td>\n",
       "      <td>46</td>\n",
       "      <td>112709</td>\n",
       "      <td>...</td>\n",
       "      <td>2854</td>\n",
       "      <td>2618</td>\n",
       "      <td>52083.859459</td>\n",
       "      <td>29122.059454</td>\n",
       "      <td>0.559138</td>\n",
       "      <td>229893.7</td>\n",
       "      <td>164002.8</td>\n",
       "      <td>0.713385</td>\n",
       "      <td>3.186400</td>\n",
       "      <td>0.721899</td>\n",
       "    </tr>\n",
       "    <tr>\n",
       "      <th>2</th>\n",
       "      <td>127080</td>\n",
       "      <td>60</td>\n",
       "      <td>2118.0</td>\n",
       "      <td>A</td>\n",
       "      <td>0</td>\n",
       "      <td>11006</td>\n",
       "      <td>11314</td>\n",
       "      <td>360602</td>\n",
       "      <td>45</td>\n",
       "      <td>77917</td>\n",
       "      <td>...</td>\n",
       "      <td>2080</td>\n",
       "      <td>2122</td>\n",
       "      <td>30060.954167</td>\n",
       "      <td>11520.184451</td>\n",
       "      <td>0.383228</td>\n",
       "      <td>75146.0</td>\n",
       "      <td>54873.0</td>\n",
       "      <td>0.730219</td>\n",
       "      <td>4.227411</td>\n",
       "      <td>1.691108</td>\n",
       "    </tr>\n",
       "    <tr>\n",
       "      <th>3</th>\n",
       "      <td>105804</td>\n",
       "      <td>36</td>\n",
       "      <td>2939.0</td>\n",
       "      <td>A</td>\n",
       "      <td>0</td>\n",
       "      <td>2235</td>\n",
       "      <td>2235</td>\n",
       "      <td>405420</td>\n",
       "      <td>14</td>\n",
       "      <td>177686</td>\n",
       "      <td>...</td>\n",
       "      <td>6604</td>\n",
       "      <td>6295</td>\n",
       "      <td>41297.480000</td>\n",
       "      <td>14151.260443</td>\n",
       "      <td>0.342666</td>\n",
       "      <td>120309.8</td>\n",
       "      <td>86017.2</td>\n",
       "      <td>0.714964</td>\n",
       "      <td>2.561997</td>\n",
       "      <td>0.879430</td>\n",
       "    </tr>\n",
       "    <tr>\n",
       "      <th>4</th>\n",
       "      <td>274740</td>\n",
       "      <td>60</td>\n",
       "      <td>4579.0</td>\n",
       "      <td>A</td>\n",
       "      <td>0</td>\n",
       "      <td>13231</td>\n",
       "      <td>13539</td>\n",
       "      <td>780907</td>\n",
       "      <td>63</td>\n",
       "      <td>86513</td>\n",
       "      <td>...</td>\n",
       "      <td>1562</td>\n",
       "      <td>1460</td>\n",
       "      <td>57188.211111</td>\n",
       "      <td>25256.665817</td>\n",
       "      <td>0.441641</td>\n",
       "      <td>276327.1</td>\n",
       "      <td>235214.0</td>\n",
       "      <td>0.851216</td>\n",
       "      <td>4.804137</td>\n",
       "      <td>0.994256</td>\n",
       "    </tr>\n",
       "  </tbody>\n",
       "</table>\n",
       "<p>5 rows × 30 columns</p>\n",
       "</div>"
      ],
      "text/plain": [
       "   amount  duration  payments status  bad_good  disp_id  client_id  \\\n",
       "0   96396        12    8033.0      B         1     2166       2166   \n",
       "1  165960        36    4610.0      A         0     2181       2181   \n",
       "2  127080        60    2118.0      A         0    11006      11314   \n",
       "3  105804        36    2939.0      A         0     2235       2235   \n",
       "4  274740        60    4579.0      A         0    13231      13539   \n",
       "\n",
       "   birth_number  district_id      A4    ...       A15   A16   avg_balance  \\\n",
       "0        475722           30   94812    ...      2985  2804  12250.000000   \n",
       "1        680722           46  112709    ...      2854  2618  52083.859459   \n",
       "2        360602           45   77917    ...      2080  2122  30060.954167   \n",
       "3        405420           14  177686    ...      6604  6295  41297.480000   \n",
       "4        780907           63   86513    ...      1562  1460  57188.211111   \n",
       "\n",
       "   stdev_balance  cv_balance    income       out  r_out_in      r_lb  \\\n",
       "0    8330.866301    0.680071   20100.0       0.0  0.000000  7.869061   \n",
       "1   29122.059454    0.559138  229893.7  164002.8  0.713385  3.186400   \n",
       "2   11520.184451    0.383228   75146.0   54873.0  0.730219  4.227411   \n",
       "3   14151.260443    0.342666  120309.8   86017.2  0.714964  2.561997   \n",
       "4   25256.665817    0.441641  276327.1  235214.0  0.851216  4.804137   \n",
       "\n",
       "   r_lincome  \n",
       "0   4.795821  \n",
       "1   0.721899  \n",
       "2   1.691108  \n",
       "3   0.879430  \n",
       "4   0.994256  \n",
       "\n",
       "[5 rows x 30 columns]"
      ]
     },
     "execution_count": 25,
     "metadata": {},
     "output_type": "execute_result"
    }
   ],
   "source": [
    "data4.head()"
   ]
  },
  {
   "cell_type": "code",
   "execution_count": 26,
   "metadata": {},
   "outputs": [],
   "source": [
    "# 提取状态为C的用于预测。其它样本随机抽样，建立训练集与测试集\n",
    "data_model=data4[data4.status!='C']\n",
    "for_predict=data4[data4.status=='C']\n",
    "# 贷款表（loans）中的还款的状态可分为 \n",
    "# A：代表合同终止，没问题\n",
    "# B：代表合同终止，贷款没支付\n",
    "# C:代表合同处于执行期，至今正常；\n",
    "# D：代表合同处于执行期，欠债状态。对数据进行转换，使A=0，B、D=1，C=2"
   ]
  },
  {
   "cell_type": "code",
   "execution_count": 27,
   "metadata": {},
   "outputs": [],
   "source": [
    "# 模型选用的特征\n",
    "candidates = ['cv_balance', 'income', 'out', 'r_out_in', 'r_lb', 'r_lincome']\n",
    "X_select = data_model[candidates]"
   ]
  },
  {
   "cell_type": "code",
   "execution_count": 28,
   "metadata": {},
   "outputs": [],
   "source": [
    "# 标签\n",
    "ytrain = data_model['bad_good'].values"
   ]
  },
  {
   "cell_type": "code",
   "execution_count": 29,
   "metadata": {},
   "outputs": [
    {
     "data": {
      "text/plain": [
       "0.37438423645320196"
      ]
     },
     "execution_count": 29,
     "metadata": {},
     "output_type": "execute_result"
    }
   ],
   "source": [
    "np.sum(ytrain==1)/np.sum(ytrain==0)"
   ]
  },
  {
   "cell_type": "code",
   "execution_count": 30,
   "metadata": {},
   "outputs": [],
   "source": [
    "# 可训练的样本集，用交叉验证法进行分割\n",
    "X = X_select.values\n",
    "X = X.astype(np.float64)"
   ]
  },
  {
   "cell_type": "code",
   "execution_count": 31,
   "metadata": {},
   "outputs": [],
   "source": [
    "for_predict = for_predict[candidates]\n",
    "# 构建训练集与测试集\n",
    "x_predict = for_predict.values\n",
    "X_predict = x_predict.astype(np.float64)"
   ]
  },
  {
   "cell_type": "code",
   "execution_count": 32,
   "metadata": {},
   "outputs": [],
   "source": [
    "data = X\n",
    "target = ytrain"
   ]
  },
  {
   "cell_type": "code",
   "execution_count": 41,
   "metadata": {},
   "outputs": [
    {
     "name": "stdout",
     "output_type": "stream",
     "text": [
      "Looking in indexes: https://pypi.tuna.tsinghua.edu.cn/simple\n",
      "Requirement already up-to-date: scikit-learn in d:\\anaconda\\lib\\site-packages (0.21.2)\n",
      "Requirement already satisfied, skipping upgrade: numpy>=1.11.0 in d:\\anaconda\\lib\\site-packages (from scikit-learn) (1.15.4)\n",
      "Requirement already satisfied, skipping upgrade: scipy>=0.17.0 in d:\\anaconda\\lib\\site-packages (from scikit-learn) (1.1.0)\n",
      "Requirement already satisfied, skipping upgrade: joblib>=0.11 in d:\\anaconda\\lib\\site-packages (from scikit-learn) (0.13.2)\n"
     ]
    }
   ],
   "source": [
    "# !pip3 install --upgrade scikit-learn"
   ]
  },
  {
   "cell_type": "code",
   "execution_count": 33,
   "metadata": {
    "scrolled": true
   },
   "outputs": [
    {
     "name": "stderr",
     "output_type": "stream",
     "text": [
      "D:\\anaconda\\lib\\site-packages\\sklearn\\ensemble\\weight_boosting.py:29: DeprecationWarning: numpy.core.umath_tests is an internal NumPy module and should not be imported. It will be removed in a future NumPy release.\n",
      "  from numpy.core.umath_tests import inner1d\n"
     ]
    },
    {
     "name": "stdout",
     "output_type": "stream",
     "text": [
      "val auc Score: 0.836395\n",
      "val auc Score: 0.805396\n",
      "val auc Score: 0.784443\n",
      "val auc Score: 0.831228\n",
      "val auc Score: 0.829219\n",
      "val auc Score: 0.821470\n"
     ]
    }
   ],
   "source": [
    "\"\"\"模型评估\"\"\"\n",
    "from sklearn import datasets\n",
    "from sklearn.ensemble import RandomForestClassifier, ExtraTreesClassifier, GradientBoostingClassifier\n",
    "from sklearn.model_selection import train_test_split\n",
    "from sklearn.model_selection import StratifiedKFold\n",
    "import numpy as np\n",
    "from sklearn.metrics import roc_auc_score\n",
    "from sklearn.svm import SVC\n",
    "from sklearn.linear_model import SGDClassifier as SGD\n",
    "\n",
    "'''模型融合中使用到的各个单模型'''\n",
    "clfs = [RandomForestClassifier(n_estimators=5, n_jobs=-1, criterion='gini'),\n",
    "        RandomForestClassifier(n_estimators=5, n_jobs=-1, criterion='entropy'),\n",
    "        ExtraTreesClassifier(n_estimators=5, n_jobs=-1, criterion='gini'),\n",
    "        ExtraTreesClassifier(n_estimators=5, n_jobs=-1, criterion='entropy'),\n",
    "#         SVC(gamma='auto',probability=True),\n",
    "#         SGD(alpha=0.00001, random_state=2, shuffle=True, loss='log', max_iter=1000,tol=1e-3),\n",
    "        GradientBoostingClassifier(learning_rate=0.05, subsample=0.5, max_depth=6, n_estimators=5)]\n",
    "\n",
    "'''切分一部分数据作为测试集'''\n",
    "Xc, Xc_predict, yc, yc_predict = train_test_split(data, target, test_size=0.33, random_state=2017)\n",
    "\n",
    "\n",
    "dataset_blend_train = np.zeros((Xc.shape[0], len(clfs)))\n",
    "dataset_blend_test = np.zeros((Xc_predict.shape[0], len(clfs)))\n",
    "\n",
    "\n",
    "'''5折stacking'''\n",
    "skf = StratifiedKFold(n_splits=3)\n",
    "for j, clf in enumerate(clfs):\n",
    "    '''依次训练各个单模型'''\n",
    "    # print(j, clf)\n",
    "    dataset_blend_test_j = np.zeros((Xc_predict.shape[0], 5))\n",
    "    for i,(train_index, test_index) in enumerate(skf.split(Xc,yc)):\n",
    "        '''使用第i个部分作为预测，剩余的部分来训练模型，获得其预测的输出作为第i部分的新特征。'''\n",
    "        # print(\"Fold\", i)\n",
    "        X_train, y_train, X_test, y_test = Xc[train_index], yc[train_index], Xc[test_index], yc[test_index]\n",
    "        clf.fit(X_train, y_train)\n",
    "        y_submission = clf.predict_proba(X_test)[:, 1]\n",
    "        dataset_blend_train[test_index, j] = y_submission\n",
    "        dataset_blend_test_j[:, i] = clf.predict_proba(Xc_predict)[:, 1]\n",
    "    '''对于测试集，直接用这k个模型的预测值均值作为新的特征。'''\n",
    "    dataset_blend_test[:, j] = dataset_blend_test_j.mean(1)\n",
    "    print(\"val auc Score: %f\" % roc_auc_score(yc_predict, dataset_blend_test[:, j]))\n",
    "\n",
    "# clf = GradientBoostingClassifier(learning_rate=0.02, subsample=0.5, max_depth=6, n_estimators=30)\n",
    "clf = SGD(alpha=0.00001, random_state=2, shuffle=True, loss='log', max_iter=1000,tol=1e-3)\n",
    "clf.fit(dataset_blend_train, yc)\n",
    "y_submission = clf.predict_proba(dataset_blend_test)[:, 1]\n",
    "# print(\"Linear stretch of predictions to [0,1]\")\n",
    "# y_submission = (y_submission - y_submission.min()) / (y_submission.max() - y_submission.min())\n",
    "# print(\"blend result\")\n",
    "print(\"val auc Score: %f\" % (roc_auc_score(yc_predict, y_submission)))"
   ]
  },
  {
   "cell_type": "code",
   "execution_count": 42,
   "metadata": {},
   "outputs": [],
   "source": [
    "'''模型预测'''\n",
    "clfs = [RandomForestClassifier(n_estimators=5, n_jobs=-1, criterion='gini'),\n",
    "        RandomForestClassifier(n_estimators=5, n_jobs=-1, criterion='entropy'),\n",
    "        ExtraTreesClassifier(n_estimators=5, n_jobs=-1, criterion='gini'),\n",
    "        ExtraTreesClassifier(n_estimators=5, n_jobs=-1, criterion='entropy'),\n",
    "#         SVC(gamma='auto',probability=True),\n",
    "#         SGD(alpha=0.00001, random_state=2, shuffle=True, loss='log', max_iter=1000,tol=1e-3),\n",
    "        GradientBoostingClassifier(learning_rate=0.05, subsample=0.5, max_depth=6, n_estimators=5)]\n",
    "# 训练集（X，ytrain含标签）\n",
    "# 预测及 X_predict \n",
    "\n",
    "\n",
    "dataset_blend_train = np.zeros((X.shape[0], len(clfs)))\n",
    "# 预测集所需\n",
    "dataset_blend_test = np.zeros((X_predict.shape[0], len(clfs)))\n",
    "\n",
    "\n",
    "'''5折stacking'''\n",
    "skf = StratifiedKFold(n_splits=3)\n",
    "for j, clf in enumerate(clfs):\n",
    "    '''依次训练各个单模型'''\n",
    "    # print(j, clf)\n",
    "    dataset_blend_test_j = np.zeros((X_predict.shape[0], 5))\n",
    "    for i,(train_index, test_index) in enumerate(skf.split(X,ytrain)):\n",
    "        '''使用第i个部分作为预测，剩余的部分来训练模型，获得其预测的输出作为第i部分的新特征。'''\n",
    "        # print(\"Fold\", i)\n",
    "        X_train, y_train, X_test, y_test = X[train_index], ytrain[train_index], X[test_index], ytrain[test_index]\n",
    "        clf.fit(X_train, y_train)\n",
    "        y_submission = clf.predict_proba(X_test)[:, 1]\n",
    "        dataset_blend_train[test_index, j] = y_submission\n",
    "        dataset_blend_test_j[:, i] = clf.predict_proba(X_predict)[:, 1]\n",
    "    '''对于测试集，直接用这k个模型的预测值均值作为新的特征。'''\n",
    "    dataset_blend_test[:, j] = dataset_blend_test_j.mean(1)\n",
    "    \n",
    "# clf = GradientBoostingClassifier(learning_rate=0.02, subsample=0.5, max_depth=6, n_estimators=30)\n",
    "clf = SGD(alpha=0.00001, random_state=2, shuffle=True, loss='log', max_iter=1000,tol=1e-3)\n",
    "clf.fit(dataset_blend_train, ytrain)\n",
    "predictions = clf.predict_proba(dataset_blend_test)[:, 1]"
   ]
  },
  {
   "cell_type": "code",
   "execution_count": 43,
   "metadata": {},
   "outputs": [
    {
     "data": {
      "text/plain": [
       "(403,)"
      ]
     },
     "execution_count": 43,
     "metadata": {},
     "output_type": "execute_result"
    }
   ],
   "source": [
    "predictions.shape"
   ]
  },
  {
   "cell_type": "code",
   "execution_count": null,
   "metadata": {},
   "outputs": [],
   "source": [
    "# # SVM\n",
    "# from sklearn.svm import SVC\n",
    "# from sklearn.model_selection import StratifiedKFold\n",
    "# from sklearn import metrics\n",
    "# folds = StratifiedKFold(n_splits=10, shuffle=False, random_state=2019)\n",
    "# predictions2 = np.zeros((X_predict.shape[0],2))\n",
    "# b = 0\n",
    "# for fold_, (trn_idx, val_idx) in enumerate(folds.split(X, y_train)):\n",
    "#     print(\"Fold :{}\".format(fold_ + 1))\n",
    "#     trn_data = X[trn_idx]\n",
    "#     trn_label = y_train[trn_idx]\n",
    "#     val_data = X[val_idx]\n",
    "#     val_label = y_train[val_idx]\n",
    "#     clf = SVC(gamma='auto',probability=True)\n",
    "#     clf.fit(trn_data, trn_label)  # Fit the model.\n",
    "#     print(\"auc score: {:<8.5f}\".format(metrics.roc_auc_score(val_label, clf.predict_proba(val_data)[:, 1])))\n",
    "#     b += metrics.roc_auc_score(val_label, clf.predict_proba(val_data)[:, 1])/ folds.n_splits\n",
    "#    # 所有预测值相加再除以folds.n_splits(10)\n",
    "#     predictions22 += clf.predict_proba(val_data) / folds.n_splits\n",
    "#     predictions2 += clf.predict_proba(X_predict) / folds.n_splits"
   ]
  },
  {
   "cell_type": "code",
   "execution_count": null,
   "metadata": {},
   "outputs": [],
   "source": [
    "# # 决策树\n",
    "# from sklearn import tree \n",
    "# from sklearn.model_selection import StratifiedKFold\n",
    "# from sklearn import metrics\n",
    "# folds = StratifiedKFold(n_splits=10, shuffle=False, random_state=2019)\n",
    "# predictions3 = np.zeros((X_predict.shape[0],2))\n",
    "# c = 0\n",
    "# for fold_, (trn_idx, val_idx) in enumerate(folds.split(X, y_train)):\n",
    "#     print(\"Fold :{}\".format(fold_ + 1))\n",
    "#     trn_data = X[trn_idx]\n",
    "#     trn_label = y_train[trn_idx]\n",
    "#     val_data = X[val_idx]\n",
    "#     val_label = y_train[val_idx]\n",
    "#     model = tree.DecisionTreeClassifier(max_depth=5,random_state=2019)\n",
    "#     model.fit(trn_data, trn_label)  # Fit the model.\n",
    "#     print(\"auc score: {:<8.5f}\".format(metrics.roc_auc_score(val_label, model.predict_proba(val_data)[:, 1])))\n",
    "#     c += metrics.roc_auc_score(val_label, model.predict_proba(val_data)[:, 1])/ folds.n_splits\n",
    "#    # 所有预测值相加再除以folds.n_splits(10)\n",
    "#     predictions3 += model.predict_proba(X_predict) / folds.n_splits\n"
   ]
  }
 ],
 "metadata": {
  "kernelspec": {
   "display_name": "Python 3",
   "language": "python",
   "name": "python3"
  },
  "language_info": {
   "codemirror_mode": {
    "name": "ipython",
    "version": 3
   },
   "file_extension": ".py",
   "mimetype": "text/x-python",
   "name": "python",
   "nbconvert_exporter": "python",
   "pygments_lexer": "ipython3",
   "version": "3.7.0"
  }
 },
 "nbformat": 4,
 "nbformat_minor": 2
}
